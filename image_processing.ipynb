{
  "nbformat": 4,
  "nbformat_minor": 0,
  "metadata": {
    "colab": {
      "name": "ee183DB.ipynb",
      "provenance": [],
      "collapsed_sections": []
    },
    "kernelspec": {
      "name": "python3",
      "display_name": "Python 3"
    }
  },
  "cells": [
    {
      "cell_type": "markdown",
      "metadata": {
        "id": "q3FsoX3Uj_ys",
        "colab_type": "text"
      },
      "source": [
        "Install smartcrop into google colab\n",
        "\n",
        "MUST RESTART RUNTIME AFTER RUNNING THIS CELL"
      ]
    },
    {
      "cell_type": "code",
      "metadata": {
        "id": "eUYSsdAxJWre",
        "colab_type": "code",
        "outputId": "05ab51ca-dd35-49a8-f499-a78787f14e00",
        "colab": {
          "base_uri": "https://localhost:8080/",
          "height": 153
        }
      },
      "source": [
        "!pip install -e git+git://github.com/hhatto/smartcrop.py.git@master#egg=smartcrop"
      ],
      "execution_count": 0,
      "outputs": [
        {
          "output_type": "stream",
          "text": [
            "Obtaining smartcrop from git+git://github.com/hhatto/smartcrop.py.git@master#egg=smartcrop\n",
            "  Cloning git://github.com/hhatto/smartcrop.py.git (to revision master) to ./src/smartcrop\n",
            "  Running command git clone -q git://github.com/hhatto/smartcrop.py.git /content/src/smartcrop\n",
            "Requirement already satisfied: numpy in /usr/local/lib/python3.6/dist-packages (from smartcrop) (1.18.5)\n",
            "Requirement already satisfied: Pillow>=4.0.0 in /usr/local/lib/python3.6/dist-packages (from smartcrop) (7.0.0)\n",
            "Installing collected packages: smartcrop\n",
            "  Running setup.py develop for smartcrop\n",
            "Successfully installed smartcrop\n"
          ],
          "name": "stdout"
        }
      ]
    },
    {
      "cell_type": "markdown",
      "metadata": {
        "id": "-CeBm8u-kJ0-",
        "colab_type": "text"
      },
      "source": [
        "Mount google drive"
      ]
    },
    {
      "cell_type": "code",
      "metadata": {
        "id": "3cb1oBZfJRuJ",
        "colab_type": "code",
        "outputId": "14714cbe-0af1-4367-c153-2199208c8313",
        "colab": {
          "base_uri": "https://localhost:8080/",
          "height": 34
        }
      },
      "source": [
        "from google.colab import drive\n",
        "drive.mount('drive', force_remount=True)"
      ],
      "execution_count": 0,
      "outputs": [
        {
          "output_type": "stream",
          "text": [
            "Mounted at drive\n"
          ],
          "name": "stdout"
        }
      ]
    },
    {
      "cell_type": "markdown",
      "metadata": {
        "id": "w4R7BJu8kOED",
        "colab_type": "text"
      },
      "source": [
        "Import libraries"
      ]
    },
    {
      "cell_type": "code",
      "metadata": {
        "id": "o4reDuF4JXNq",
        "colab_type": "code",
        "colab": {}
      },
      "source": [
        "import tensorflow as tf\n",
        "from tensorflow.keras import datasets, layers, models\n",
        "from tensorflow.keras.preprocessing import image as Im\n",
        "import numpy as np\n",
        "import scipy as sp\n",
        "\n",
        "import matplotlib.pyplot as plt\n",
        "from sklearn.metrics import roc_curve\n",
        "import glob\n",
        "import os,imageio\n",
        "import json\n",
        "import sys\n",
        "from PIL import Image\n",
        "\n",
        "\n",
        "import smartcrop\n",
        "import cv2"
      ],
      "execution_count": 0,
      "outputs": []
    },
    {
      "cell_type": "markdown",
      "metadata": {
        "id": "c3SPQheLkQMY",
        "colab_type": "text"
      },
      "source": [
        "Set image root directory"
      ]
    },
    {
      "cell_type": "code",
      "metadata": {
        "id": "PyOVof_vJeXy",
        "colab_type": "code",
        "colab": {}
      },
      "source": [
        "root = \"drive/My Drive/croptest/\"\n",
        "sc = smartcrop.SmartCrop()"
      ],
      "execution_count": 0,
      "outputs": []
    },
    {
      "cell_type": "markdown",
      "metadata": {
        "id": "Awga0xeTkTS5",
        "colab_type": "text"
      },
      "source": [
        "Mapping and weight adjustment functions"
      ]
    },
    {
      "cell_type": "code",
      "metadata": {
        "id": "bGSkt57mCj6R",
        "colab_type": "code",
        "colab": {}
      },
      "source": [
        "def translate(value, leftMin, leftMax, rightMin, rightMax):\n",
        "    # Figure out how 'wide' each range is\n",
        "    leftSpan = leftMax - leftMin\n",
        "    rightSpan = rightMax - rightMin\n",
        "\n",
        "    # Convert the left range into a 0-1 range (float)\n",
        "    valueScaled = float(value - leftMin) / float(leftSpan)\n",
        "\n",
        "    # Convert the 0-1 range into a value in the right range.\n",
        "    return rightMin + (valueScaled * rightSpan)\n",
        "\n",
        "def within2(value):\n",
        "  if value <= 2 and value >= -2:\n",
        "    return 1\n",
        "  else: return 0\n",
        "\n",
        "\n",
        "def adjust_weights(ss_zscore, weights):\n",
        "    #outputs array of elements with 1 or 0 if the entry is within 2 std\n",
        "    check_within = list(map(within2, ss_zscore))\n",
        "    #determine number of entries that are within 2 std\n",
        "    count = sum(check_within)\n",
        "    # all entries are within the std range\n",
        "    if count == 0:\n",
        "      #how to deal with weight when all are within range we expect/want\n",
        "      return weights\n",
        "    else:\n",
        "      values = np.zeros(numSensors)\n",
        "      for i in range(0, numSensors):\n",
        "        #if the value is not within 2 std\n",
        "        if not check_within[i]:\n",
        "          #set temp arr to value deducted at index i\n",
        "          new_weight = (weights[i] * (-2/ss_zscore[i]))\n",
        "          values[i] = weights[i] - new_weight\n",
        "          weights[i] = new_weight\n",
        "      #change weight of sensor value that is more than 2 std from mean\n",
        "      numToAdd = sum(values) / count\n",
        "      for i in range(0, numSensors):\n",
        "        #if the entry is within 2 std\n",
        "        if check_within[i]:\n",
        "          weights[i] = weights[i] + numToAdd\n",
        "      return weights\n"
      ],
      "execution_count": 0,
      "outputs": []
    },
    {
      "cell_type": "markdown",
      "metadata": {
        "id": "nGVPorxhgF0Z",
        "colab_type": "text"
      },
      "source": [
        "Define constants - \n",
        "\n",
        "set hardware constants"
      ]
    },
    {
      "cell_type": "code",
      "metadata": {
        "id": "l9kIiTwPJhzo",
        "colab_type": "code",
        "colab": {}
      },
      "source": [
        "lensfocallength = 1.0\n",
        "fstop = 2.8\n",
        "\n",
        "aperture = lensfocallength/fstop\n",
        "ISO = 1\n",
        "time = 1\n",
        "sensor_max = 1000\n",
        "sensor_min = 100\n",
        "\n",
        "\n",
        "camera_scale = (np.sqrt(2)**aperture) / (ISO * time)\n",
        "\n",
        "numSensors = 4\n",
        "\n",
        "#initial weights\n",
        "weights = [0.25, 0.25, 0.25, 0.25]\n",
        "#random values for now\n",
        "ss_arr = [800, 701, 580, 511]\n",
        "\n"
      ],
      "execution_count": 0,
      "outputs": []
    },
    {
      "cell_type": "markdown",
      "metadata": {
        "id": "hXFedUHJobH0",
        "colab_type": "text"
      },
      "source": [
        "mean: 711.5845097109011 std_dev: 99.78389414728649"
      ]
    },
    {
      "cell_type": "markdown",
      "metadata": {
        "id": "wG_mipsfkhD5",
        "colab_type": "text"
      },
      "source": [
        "Top-level function"
      ]
    },
    {
      "cell_type": "code",
      "metadata": {
        "id": "eMCCY0K6eaVt",
        "colab_type": "code",
        "colab": {}
      },
      "source": [
        "def process(image):\n",
        "  #converts to RBG\n",
        "  img = Image.open(image).convert(\"RGB\")\n",
        "\n",
        "  #determine best crop information\n",
        "  best_crop = sc.crop (img, 72, 72)\n",
        "  best_crop_x = best_crop[\"top_crop\"]['x']\n",
        "  best_crop_y = best_crop[\"top_crop\"]['y']\n",
        "  width = best_crop[\"top_crop\"]['width']\n",
        "  height = best_crop[\"top_crop\"]['height']\n",
        "\n",
        "  #crop actual image\n",
        "  im_crop = img.crop((best_crop_x,best_crop_y, best_crop_x+width, best_crop_y+height))\n",
        "\n",
        "  #show cropped images\n",
        "  #plt.imshow(im_crop)\n",
        "  #plt.figure()\n",
        "\n",
        "  #convert to numpy array and preserve 3 channels\n",
        "  image_3ch = np.asarray(im_crop)\n",
        "\n",
        "  #convert to Luv Image format\n",
        "  im_cv = cv2.cvtColor(image_3ch, cv2.COLOR_RGB2LUV)\n",
        "  #extract light from Luv\n",
        "  value_arr = im_cv[:,:,0]\n",
        "  #Scale light values based on sensor values\n",
        "  reshape_arr = (value_arr.flatten() * camera_scale)\n",
        "  arr_size = len(reshape_arr)\n",
        "  #CVzScore = (reshape_arr-np.mean(reshape_arr))/np.std(reshape_arr)\n",
        "\n",
        "  #map all values to sensor\n",
        "  arr_sensorCV = np.zeros(arr_size)\n",
        "  for i in range(0, arr_size):\n",
        "    arr_sensorCV[i] = translate(reshape_arr[i], 0, 255, sensor_min, sensor_max)\n",
        "  #print(arr_sensorCV)\n",
        "  #print(\"mapped values: \\n\" + str(arr_sensorCV))\n",
        "\n",
        "\n",
        "  #determine the mean and std of Camera array scaled\n",
        "  sensorCV_mean = np.mean(arr_sensorCV)\n",
        "  sensorCV_stddev = np.std(arr_sensorCV)\n",
        "\n",
        "  print(\"mean: \" + str(sensorCV_mean) + \" std_dev: \" + str(sensorCV_stddev))\n",
        "  #print(\"sensor values: \" + str(ss_arr))\n",
        "  #determine zscore of sunsensor readings based on mean and std of camera\n",
        "  ss_zscore = (ss_arr - sensorCV_mean)/sensorCV_stddev\n",
        "\n",
        "  new_weights = adjust_weights(ss_zscore, weights)\n",
        "  print(\"New Weights: \" + str(new_weights))"
      ],
      "execution_count": 0,
      "outputs": []
    },
    {
      "cell_type": "markdown",
      "metadata": {
        "id": "YEWJH2JMzNO7",
        "colab_type": "text"
      },
      "source": [
        "Code to convert video to images"
      ]
    },
    {
      "cell_type": "code",
      "metadata": {
        "id": "VcxUzv70kONz",
        "colab_type": "code",
        "colab": {}
      },
      "source": [
        "vidcap = cv2.VideoCapture(root+\"demo/Dandelion.mp4\")\n",
        "success,image = vidcap.read()\n",
        "count = 0;\n",
        "while success:\n",
        "  cv2.imwrite(root+\"demo/frame%d.jpg\" % count,image)\n",
        "  success,image = vidcap.read()\n",
        "  #print('read a new frame: ', success)\n",
        "  count+=1"
      ],
      "execution_count": 0,
      "outputs": []
    },
    {
      "cell_type": "markdown",
      "metadata": {
        "id": "UNR6NZdQzrkx",
        "colab_type": "text"
      },
      "source": [
        "Run to process all images\n",
        "\n",
        "1. Change the directory of images\n",
        "2. Delete the test values, used only for demonstration purposes"
      ]
    },
    {
      "cell_type": "code",
      "metadata": {
        "id": "co3nyAnGfR9C",
        "colab_type": "code",
        "outputId": "61cb5b7b-95bb-42c5-e8eb-d0237eab8a31",
        "colab": {
          "base_uri": "https://localhost:8080/",
          "height": 1000
        }
      },
      "source": [
        "images = glob.glob(root+\"smalltest/*.jpg\")\n",
        "#image = Image.open(root+\"/smalltest/daisy0003.jpg\", \"r\")\n",
        "\n",
        "#Reset weights\n",
        "weights = [0.25, 0.25, 0.25, 0.25]\n",
        "\n",
        "#These values are just for the demo, values should come from sensor outputs\n",
        "test= [[800, 701, 580, 400],[798, 710, 600, 300], [803, 708, 597, 98],[803, 708, 597, 490], [803, 708, 597, 240], [803, 708, 597, 410], [803, 708, 597, 498],[803, 708, 597, 400],[803, 708, 597, 380],[803, 708, 597, 498],[803, 708, 597, 350]]\n",
        "\n",
        "\n",
        "\n",
        "for image in images:\n",
        "  for val in test:\n",
        "    ss_arr = val\n",
        "    process(image)\n",
        "\n"
      ],
      "execution_count": 0,
      "outputs": [
        {
          "output_type": "stream",
          "text": [
            "mean: 711.5845097109011 std_dev: 99.78389414728649\n",
            "New Weights: [0.27995889235108345, 0.27995889235108345, 0.27995889235108345, 0.16012332294674958]\n",
            "mean: 711.5845097109011 std_dev: 99.78389414728649\n",
            "New Weights: [0.307453304112193, 0.307453304112193, 0.307453304112193, 0.07764008766342088]\n",
            "mean: 711.5845097109011 std_dev: 99.78389414728649\n",
            "New Weights: [0.3249158780180168, 0.3249158780180168, 0.3249158780180168, 0.02525236594594948]\n",
            "mean: 711.5845097109011 std_dev: 99.78389414728649\n",
            "New Weights: [0.32575223958929045, 0.32575223958929045, 0.32575223958929045, 0.022743281232128487]\n",
            "mean: 711.5845097109011 std_dev: 99.78389414728649\n",
            "New Weights: [0.33012512339386785, 0.33012512339386785, 0.33012512339386785, 0.009624629818396329]\n",
            "mean: 711.5845097109011 std_dev: 99.78389414728649\n",
            "New Weights: [0.33121036169060025, 0.33121036169060025, 0.33121036169060025, 0.006368914928199062]\n",
            "mean: 711.5845097109011 std_dev: 99.78389414728649\n",
            "New Weights: [0.33134968406997706, 0.33134968406997706, 0.33134968406997706, 0.005950947790068616]\n",
            "mean: 711.5845097109011 std_dev: 99.78389414728649\n",
            "New Weights: [0.3320628192868954, 0.3320628192868954, 0.3320628192868954, 0.0038115421393136112]\n",
            "mean: 711.5845097109011 std_dev: 99.78389414728649\n",
            "New Weights: [0.33256866046467043, 0.33256866046467043, 0.33256866046467043, 0.002294018605988503]\n",
            "mean: 711.5845097109011 std_dev: 99.78389414728649\n",
            "New Weights: [0.3326188429736416, 0.3326188429736416, 0.3326188429736416, 0.0021434710790749767]\n",
            "mean: 711.5845097109011 std_dev: 99.78389414728649\n",
            "New Weights: [0.33293898773220265, 0.33293898773220265, 0.33293898773220265, 0.0011830368033917975]\n",
            "mean: 711.5845097109011 std_dev: 99.78389414728649\n",
            "New Weights: [0.3330807576211634, 0.3330807576211634, 0.3330807576211634, 0.0007577271365095803]\n",
            "mean: 711.5845097109011 std_dev: 99.78389414728649\n",
            "New Weights: [0.3332108652251674, 0.3332108652251674, 0.3332108652251674, 0.00036740432449756943]\n",
            "mean: 711.5845097109011 std_dev: 99.78389414728649\n",
            "New Weights: [0.3332935006956176, 0.3332935006956176, 0.3332935006956176, 0.00011949791314710381]\n",
            "mean: 711.5845097109011 std_dev: 99.78389414728649\n",
            "New Weights: [0.3332974584816966, 0.3332974584816966, 0.3332974584816966, 0.00010762455490999177]\n",
            "mean: 711.5845097109011 std_dev: 99.78389414728649\n",
            "New Weights: [0.3333181516116077, 0.3333181516116077, 0.3333181516116077, 4.554516517673988e-05]\n",
            "mean: 711.5845097109011 std_dev: 99.78389414728649\n",
            "New Weights: [0.3333232871189897, 0.3333232871189897, 0.3333232871189897, 3.013864303092367e-05]\n",
            "mean: 711.5845097109011 std_dev: 99.78389414728649\n",
            "New Weights: [0.333323946412999, 0.333323946412999, 0.333323946412999, 2.8160761002857032e-05]\n",
            "mean: 711.5845097109011 std_dev: 99.78389414728649\n",
            "New Weights: [0.3333273210738286, 0.3333273210738286, 0.3333273210738286, 1.8036778513946832e-05]\n",
            "mean: 711.5845097109011 std_dev: 99.78389414728649\n",
            "New Weights: [0.3333297147887485, 0.3333297147887485, 0.3333297147887485, 1.0855633754199783e-05]\n",
            "mean: 711.5845097109011 std_dev: 99.78389414728649\n",
            "New Weights: [0.3333299522597685, 0.3333299522597685, 0.3333299522597685, 1.0143220694206507e-05]\n",
            "mean: 711.5845097109011 std_dev: 99.78389414728649\n",
            "New Weights: [0.33333146723189566, 0.33333146723189566, 0.33333146723189566, 5.59830431271793e-06]\n",
            "mean: 711.5845097109011 std_dev: 99.78389414728649\n",
            "New Weights: [0.33333213810788065, 0.33333213810788065, 0.33333213810788065, 3.585676357678056e-06]\n",
            "mean: 711.5845097109011 std_dev: 99.78389414728649\n",
            "New Weights: [0.3333327537962164, 0.3333327537962164, 0.3333327537962164, 1.738611350423709e-06]\n",
            "mean: 711.5845097109011 std_dev: 99.78389414728649\n",
            "New Weights: [0.33333314483942766, 0.33333314483942766, 0.33333314483942766, 5.654817167261614e-07]\n",
            "mean: 711.5845097109011 std_dev: 99.78389414728649\n",
            "New Weights: [0.33333316356825404, 0.33333316356825404, 0.33333316356825404, 5.092952376287266e-07]\n",
            "mean: 711.5845097109011 std_dev: 99.78389414728649\n",
            "New Weights: [0.3333332614911911, 0.3333332614911911, 0.3333332614911911, 2.1552642648256704e-07]\n",
            "mean: 711.5845097109011 std_dev: 99.78389414728649\n",
            "New Weights: [0.333333285793168, 0.333333285793168, 0.333333285793168, 1.4262049563948167e-07]\n",
            "mean: 711.5845097109011 std_dev: 99.78389414728649\n",
            "New Weights: [0.3333332889130443, 0.3333332889130443, 0.3333332889130443, 1.332608667116015e-07]\n",
            "mean: 711.5845097109011 std_dev: 99.78389414728649\n",
            "New Weights: [0.3333333048824362, 0.3333333048824362, 0.3333333048824362, 8.535269118650207e-08]\n",
            "mean: 711.5845097109011 std_dev: 99.78389414728649\n",
            "New Weights: [0.3333333162098476, 0.3333333162098476, 0.3333333162098476, 5.1370457021442447e-08]\n",
            "mean: 711.5845097109011 std_dev: 99.78389414728649\n",
            "New Weights: [0.3333333173335954, 0.3333333173335954, 0.3333333173335954, 4.799921354468639e-08]\n",
            "mean: 711.5845097109011 std_dev: 99.78389414728649\n",
            "New Weights: [0.3333333245026665, 0.3333333245026665, 0.3333333245026665, 2.6492000154129338e-08]\n"
          ],
          "name": "stdout"
        }
      ]
    }
  ]
}
